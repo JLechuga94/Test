{
 "cells": [
  {
   "cell_type": "markdown",
   "metadata": {},
   "source": [
    "## Imports"
   ]
  },
  {
   "cell_type": "code",
   "execution_count": 1,
   "metadata": {},
   "outputs": [],
   "source": [
    "import gym # openAi gym\n",
    "from gym import envs\n",
    "import numpy as np \n",
    "from numpy import linalg as LA\n",
    "import datetime\n",
    "import keras \n",
    "import tensorflow as tf\n",
    "import matplotlib.pyplot as plt\n",
    "%matplotlib inline\n",
    "import pandas as pd\n",
    "from time import sleep\n",
    "\n",
    "\n",
    "from rl.agents.dqn import DQNAgent\n",
    "from rl.policy import LinearAnnealedPolicy, BoltzmannQPolicy, EpsGreedyQPolicy\n",
    "from rl.memory import SequentialMemory\n",
    "from rl.core import Processor\n",
    "from rl.callbacks import FileLogger, ModelIntervalCheckpoint\n",
    "\n",
    "import os\n",
    "from collections import deque"
   ]
  },
  {
   "cell_type": "markdown",
   "metadata": {},
   "source": [
    "keras-rl implements some state-of-the art deep reinforcement learning algorithms in Python and seamlessly integrates with the deep learning library Keras.\n",
    "\n",
    "Furthermore, keras-rl works with OpenAI Gym out of the box. This means that evaluating and playing around with different algorithms is easy."
   ]
  },
  {
   "cell_type": "code",
   "execution_count": null,
   "metadata": {},
   "outputs": [],
   "source": [
    "# !pip install keras\n",
    "# !pip install tensorflow\n",
    "# !pip install keras-rl\n",
    "# !conda install -c conda-forge gym-box2d\n",
    "# !sudo apt install cmake libz-dev # atari-py depends on cmake if its not installed atari-py installation will fail\n",
    "# !pip install atari-py\n",
    "# !pip install nes-py\n",
    "# !pip install gym-super-mario-bros"
   ]
  },
  {
   "cell_type": "markdown",
   "metadata": {},
   "source": [
    "## What is Reinforcement Learning?"
   ]
  },
  {
   "cell_type": "markdown",
   "metadata": {},
   "source": [
    "![image info](./images/rl_loop.png)"
   ]
  },
  {
   "cell_type": "markdown",
   "metadata": {},
   "source": [
    "Reinforcement learning is the training of machine learning models to make a sequence of decisions. The agent learns to achieve a goal in an uncertain, potentially complex environment. In reinforcement learning, an artificial intelligence faces a game-like situation. The computer employs trial and error to come up with a solution to the problem. To get the machine to do what the programmer wants, the artificial intelligence gets either rewards or penalties for the actions it performs. Its goal is to maximize the total reward.\n",
    "\n",
    "https://arxiv.org/pdf/1312.5602.pdf"
   ]
  },
  {
   "cell_type": "markdown",
   "metadata": {},
   "source": [
    "### Markov decision Process"
   ]
  },
  {
   "cell_type": "markdown",
   "metadata": {},
   "source": [
    "The word Markov refers to Markovian property which means that the state is independent of any previous states history, not on the sequence of events that preceded it. The current state encapsulates all that is needed to decide the future actions, no memory needed.\n",
    "\n",
    "In terms of Reinforcement Learning the Environment is modeled as a markov model and the agent needs to take actions in this environment to maximize the amount of reward. Since the agent sees only the outside of the environment (the effects of it actions) it is often referred to as the hidden markov model which needs to be learned."
   ]
  },
  {
   "cell_type": "markdown",
   "metadata": {},
   "source": [
    "#### Policy"
   ]
  },
  {
   "cell_type": "markdown",
   "metadata": {},
   "source": [
    "Policy (π): The strategy that the agent employs to determine next action 'a' in state 's'. Note that it does not state if it is a good or bad policy, it is a policy. The policy is normally noted with the greek letter π. Optimal policy (π*), policy which maximizes the expected reward. Among all the policies taken, the optimal policy is the one that optimizes to maximize the amount of reward received or expected to receive over a lifetime."
   ]
  },
  {
   "cell_type": "markdown",
   "metadata": {},
   "source": [
    "#### Value Iteration Algorithm"
   ]
  },
  {
   "cell_type": "markdown",
   "metadata": {},
   "source": [
    "The value iteration is centred around the game states. The core of the idea is to calculate the value (expected long-term maximum result) of each state. The algorithm loops over all states (s) and possible actions (a) to explore rewards of a given action and calculates the maximum possible action/reward and stores it in V[s]. The algorithm iterates/repeats until V[s] is not (significantly) improving anymore. \n",
    "\n",
    "The Optimal policy (π*) is then to take every time the action to go state with the highest value. This value iteration algorithm is an example of what is referred to as dynamic programming (DP) in literature. There are other DP techniques to solve this like policy iteration, etc but it can also be solved by a recursive program (a function that calls itself, look at the Bellman equation, it is a recursive definition)."
   ]
  },
  {
   "cell_type": "markdown",
   "metadata": {},
   "source": [
    "### Q-Learning"
   ]
  },
  {
   "cell_type": "markdown",
   "metadata": {},
   "source": [
    "Centered around the agent and starts exploring based on trial-and-error to update its knowledge about the model and hence path to the best reward. The core of the idea is the Q-matrix \n",
    "- Q(s, a). It contains the maximum discounted future reward when we perform action a in state s. Or in other words Q(s, a) gives estimates the best course of action a in state s. Q-learning learns by trail and error and updates its policy (Q-matrix) based on reward. to state it simple: the best it can do given a state it is in.\n",
    "\n",
    "After every step we update Q(s,a) using the reward, and the max Q value for new state resulting from the action. \n",
    "\n",
    "This update is done using the action value formula, based upon the Bellman equation and allows state-action pairs to be updated in a recursive fashion (based on future values).\n",
    "\n",
    "The Bellman equation is extended with a learning rate alpha:\n",
    "\n",
    "![image info](./images/q_learning_bellman.png)\n",
    "\n",
    "If alpha is set to 1, we return to the original Bellman equation.\n",
    "\n",
    "The Q-matrix is initialized with zero's. So initially it starts moving randomly until it hits a state/action with rewards or state/actions with a penalty. For understanding, let's simplify the problem that it needs to go to a certain drop-off position to get a reward. So random moves get no rewards but by luck (brute force enough tries) the state/action is found where a reward is given. So next game the immediate actions preceding this state/action will direct toward it by use of the Q-Matrix. The next iteration the actions before that, etc, etc. In other words, it solves \"the puzzle\" backwards from end-result (drop-off passenger) towards steps to be taken to get there in a iterative fashion.\n"
   ]
  },
  {
   "cell_type": "markdown",
   "metadata": {
    "heading_collapsed": true
   },
   "source": [
    "#### Exploration vs Exploitation"
   ]
  },
  {
   "cell_type": "markdown",
   "metadata": {
    "hidden": true
   },
   "source": [
    "- Exploitation: Make the best decision given current information available (Go to the restaurant you know you like)\n",
    "- Exploration: Gather more information (go to a new restaurant to find out if you like it)\n",
    "\n",
    "Some approaches for this tradeoff:\n",
    "\n",
    "- Epsilon Greedy: We exploit the current situation with probability 1 — epsilon and explore a new option with probability epsilon, the rates of exploration and exploitation are fixed\n",
    "- Epsilon-Decreasing: We exploit the current situation with probability 1 — epsilon and explore a new option with probability epsilon, with epsilon decreasing over time.\n",
    "- Thompson sampling: the rates of exploration and exploitation are dynamically updated with respect to the entire probability distribution of each arm\n",
    "- Epsilon-Decreasing with Softmax: We exploit the current situation with probability 1 — epsilon and explore a new option with probability epsilon, with epsilon decreasing over time. In the case of exploring a new option, we don’t just pick an option at random, but instead we estimate the outcome of each option, and then pick based on that, this is the softmax part."
   ]
  },
  {
   "cell_type": "markdown",
   "metadata": {},
   "source": [
    "### Deep Reinforcement Learning"
   ]
  },
  {
   "cell_type": "markdown",
   "metadata": {},
   "source": [
    "Imagine you got a full Atari game screen of pixels as an observation and it becomes quickly visible the Q-matrix solution will not cope. Also the Q-learning agent does not have the ability to estimate value for unseen states, it has no clue which action to take and goes back to random action as best.\n",
    "\n",
    "To deal with these problems, Deep Q-Network (DQN) removes the two-dimensional Q-matrix by introducing a Neural Network. So it leverages a Neural Network to estimate the Q-value function. The input for the network is the current game state, while the output is the corresponding Q-value for each of the actions.\n",
    "\n",
    "In 2014 Google DeepMind published a paper titled \"Playing Atari with Deep Reinforcement Learning\" that can play Atari 2600 games at expert human levels. This was the first breakthruogh in applying deep neural networks for reinforcement learning.\n",
    "\n",
    "![image info](./images/atari_dqn.png)"
   ]
  },
  {
   "cell_type": "markdown",
   "metadata": {},
   "source": [
    "## OpenAI Gym\n",
    "\n",
    "Gym is a toolkit for developing and comparing reinforcement learning algorithms. It supports teaching agents everything from walking to playing games like Pong or Pinball.\n",
    "\n",
    "![image info](./images/rl_gym_loop.png)\n",
    "\n",
    "Each timestep, the agent chooses an action, and the environment returns an observation and a reward.\n",
    "\n",
    "observation, reward, done, info = env.step(action)\n",
    "\n",
    "- observation (object): an environment-specific object representing your observation of the environment. For example, pixel data from a camera, joint angles and joint velocities of a robot, or the board state in a board game line Taxi.\n",
    "- reward (float): amount of reward achieved by the previous action. The scale varies between environments, but the goal is always to increase your total reward.\n",
    "- done (boolean): whether it’s time to reset the environment again. Most (but not all) tasks are divided up into well-defined episodes, and done being True indicates the episode has terminated. (For example, perhaps the pole tipped too far, or you lost your last life.)\n",
    "- info (dict): ignore, diagnostic information useful for debugging. Official evaluations of your agent are not allowed to use this for learning.\n",
    "\n",
    "There are a lot of different video game environments for testing Reinforcement Learning algorithms in different scenarios. Currently the number of different environments available in Python Gym is 859\n",
    "\n",
    "Some of the environments available are:\n",
    "\n",
    "Taxi, Mountaincar, InvertedPendulum, MarioBros, Taxi"
   ]
  },
  {
   "cell_type": "code",
   "execution_count": 2,
   "metadata": {},
   "outputs": [
    {
     "name": "stdout",
     "output_type": "stream",
     "text": [
      "859\n"
     ]
    }
   ],
   "source": [
    "print(len(envs.registry.all()))"
   ]
  },
  {
   "cell_type": "markdown",
   "metadata": {},
   "source": [
    "#### Actions"
   ]
  },
  {
   "cell_type": "markdown",
   "metadata": {},
   "source": [
    "Action (a): the input the agent provides to the environment. So what are the action commands the agents can give to the enironment? The value of env.action_space gives us this information.\n",
    "\n",
    "What is the meaning of the actions? For the deep learning algorithm it should not matter, it should sort it out independent of the meaning of the action. But for humans it is handy to have the description, so we can understand the actions."
   ]
  },
  {
   "cell_type": "markdown",
   "metadata": {},
   "source": [
    "#### States"
   ]
  },
  {
   "cell_type": "markdown",
   "metadata": {},
   "source": [
    "State (s): This represents the board state of the game and in gym returned it is returned as observation. State: a numeric representation of what the agent is observing at a particular moment of time in the environment.\n",
    "In case of Taxi the observation is an integer, 500 different states are possible that translate to a nice graphic visual format with the render function. Note that this is specific for the Taxi game, in case of e.g. an Atari game the observation is the game screen with many coloured pixels."
   ]
  },
  {
   "cell_type": "markdown",
   "metadata": {},
   "source": [
    "### Taxi v3\n",
    "\n",
    "This task was introduced in [Dietterich2000] to illustrate some issues in hierarchical reinforcement learning. There are 4 locations (labeled by different letters) and your job is to pick up the passenger at one location and drop him off in another. You receive +20 points for a successful dropoff, and lose 1 point for every timestep it takes. There is also a 10 point penalty for illegal pick-up and drop-off actions.\n",
    "\n",
    "There are four designated locations in the grid world indicated by R(ed), B(lue), G(reen), and Y(ellow). When the episode starts, the taxi starts off at a random square and the passenger is at a random location. The taxi drive to the passenger's location, pick up the passenger, drive to the passenger's destination (another one of the four specified locations), and then drop off the passenger. Once the passenger is dropped off, the episode ends. The taxi cannot pass thru a wall.\n",
    "\n",
    "Rewards: There is a reward of -1 for each action and an additional reward of +20 for delievering the passenger. There is a reward of -10 for executing actions \"pickup\" and \"dropoff\" illegally.\n",
    "\n",
    "- blue: passenger\n",
    "- magenta: destination\n",
    "- yellow: empty taxi\n",
    "- green: full taxi\n",
    "- other letters: locations"
   ]
  },
  {
   "cell_type": "code",
   "execution_count": 3,
   "metadata": {},
   "outputs": [
    {
     "name": "stdout",
     "output_type": "stream",
     "text": [
      "+---------+\n",
      "|\u001b[34;1mR\u001b[0m:\u001b[43m \u001b[0m| : :G|\n",
      "| : | : : |\n",
      "| : : : : |\n",
      "| | : | : |\n",
      "|Y| : |\u001b[35mB\u001b[0m: |\n",
      "+---------+\n",
      "\n"
     ]
    }
   ],
   "source": [
    "env = gym.make('Taxi-v3')\n",
    "env.reset()\n",
    "env.render()"
   ]
  },
  {
   "cell_type": "markdown",
   "metadata": {},
   "source": [
    "#### Agent action"
   ]
  },
  {
   "cell_type": "markdown",
   "metadata": {},
   "source": [
    "There are 6 operations the \"agent\" can perform:\n",
    "\n",
    "- 0: move south\n",
    "- 1: move north\n",
    "- 2: move east \n",
    "- 3: move west \n",
    "- 4: pickup passenger\n",
    "- 5: dropoff passenger"
   ]
  },
  {
   "cell_type": "code",
   "execution_count": 4,
   "metadata": {},
   "outputs": [
    {
     "name": "stdout",
     "output_type": "stream",
     "text": [
      "Possible actions for agent in game Taxi: 6\n"
     ]
    }
   ],
   "source": [
    "# action space has 6 possible actions, the meaning of the actions is nice to know for us humans but the neural network will figure it out\n",
    "print(\"Possible actions for agent in game Taxi: %a\" % (env.action_space.n))"
   ]
  },
  {
   "cell_type": "markdown",
   "metadata": {},
   "source": [
    "#### States"
   ]
  },
  {
   "cell_type": "code",
   "execution_count": 5,
   "metadata": {},
   "outputs": [
    {
     "name": "stdout",
     "output_type": "stream",
     "text": [
      "Discrete(500)\n",
      "\n",
      "+---------+\n",
      "|\u001b[34;1mR\u001b[0m: |\u001b[43m \u001b[0m: :G|\n",
      "| : | : : |\n",
      "| : : : : |\n",
      "| | : | : |\n",
      "|\u001b[35mY\u001b[0m| : |B: |\n",
      "+---------+\n",
      "\n",
      "+---------+\n",
      "|\u001b[34;1mR\u001b[0m: | : :G|\n",
      "| : | : : |\n",
      "| :\u001b[43m \u001b[0m: : : |\n",
      "| | : | : |\n",
      "|\u001b[35mY\u001b[0m| : |B: |\n",
      "+---------+\n",
      "\n"
     ]
    }
   ],
   "source": [
    "print(env.observation_space)\n",
    "print()\n",
    "env.env.s = 42 # random state\n",
    "env.render()\n",
    "env.env.s = 222 # random state\n",
    "env.render()"
   ]
  },
  {
   "cell_type": "markdown",
   "metadata": {},
   "source": [
    "#### Model based approach - Value Iteration Algorithm\n",
    "\n",
    "The Taxi game is an example of an Markov decision process . We can describe the game in states, possible actions in a statethat leading to a next state with a certain probability with a reward. In our case we will be solving the game via a value iteration algorithm using the Bellman equation described earlier. "
   ]
  },
  {
   "cell_type": "code",
   "execution_count": 6,
   "metadata": {
    "scrolled": false
   },
   "outputs": [
    {
     "name": "stdout",
     "output_type": "stream",
     "text": [
      "Initial state\n",
      "+---------+\n",
      "|\u001b[34;1mR\u001b[0m: | : :G|\n",
      "| :\u001b[43m \u001b[0m| : : |\n",
      "| : : : : |\n",
      "| | : | : |\n",
      "|\u001b[35mY\u001b[0m| : |B: |\n",
      "+---------+\n",
      "\n",
      "+---------+\n",
      "|\u001b[34;1mR\u001b[0m: | : :G|\n",
      "| :\u001b[43m \u001b[0m| : : |\n",
      "| : : : : |\n",
      "| | : | : |\n",
      "|\u001b[35mY\u001b[0m| : |B: |\n",
      "+---------+\n",
      "  (Dropoff)\n",
      "+---------+\n",
      "|\u001b[34;1mR\u001b[0m: | : :G|\n",
      "| :\u001b[43m \u001b[0m| : : |\n",
      "| : : : : |\n",
      "| | : | : |\n",
      "|\u001b[35mY\u001b[0m| : |B: |\n",
      "+---------+\n",
      "  (Pickup)\n",
      "+---------+\n",
      "|\u001b[34;1mR\u001b[0m: | : :G|\n",
      "| :\u001b[43m \u001b[0m| : : |\n",
      "| : : : : |\n",
      "| | : | : |\n",
      "|\u001b[35mY\u001b[0m| : |B: |\n",
      "+---------+\n",
      "  (Dropoff)\n",
      "Reward: -30\n"
     ]
    }
   ],
   "source": [
    "# Let's do some random steps in the game so we can see how the game looks like\n",
    "env = gym.make('Taxi-v3')\n",
    "env.reset()\n",
    "\n",
    "reward = 0\n",
    "obs = env.reset()\n",
    "print(\"Initial state\")\n",
    "env.render()\n",
    "for _ in range(3):\n",
    "    action = env.action_space.sample() #take step using random action from possible actions (actio_space)\n",
    "    obs, rew, done, info = env.step(action) \n",
    "    reward = reward + rew\n",
    "    env.render()\n",
    "#Final reward of these random actions\n",
    "\n",
    "print(\"Reward: %r\" % reward)    "
   ]
  },
  {
   "cell_type": "markdown",
   "metadata": {},
   "source": [
    "We will now apply our value iteration algorithm and analyze the results"
   ]
  },
  {
   "cell_type": "code",
   "execution_count": 7,
   "metadata": {},
   "outputs": [
    {
     "name": "stdout",
     "output_type": "stream",
     "text": [
      "Finished in 41 iterations\n"
     ]
    }
   ],
   "source": [
    "# Value iteration algorithm\n",
    "\n",
    "n_actions = env.action_space.n\n",
    "n_states = env.observation_space.n\n",
    "V = np.zeros([n_states]) # The Value for each state\n",
    "Pi = np.zeros([n_states], dtype=int)  # Our policy with we keep updating to get the optimal policy\n",
    "gamma = 0.9 # discount factor\n",
    "significant_improvement = 0.01\n",
    "\n",
    "def best_action_value(s):\n",
    "    # finds the highest value action (max_a) in state s\n",
    "    best_a = None\n",
    "    best_value = float('-inf')\n",
    "\n",
    "    # loop through all possible actions to find the best current action\n",
    "    for a in range (0, n_actions):\n",
    "        env.env.s = s\n",
    "        s_new, rew, done, info = env.step(a) #take the action\n",
    "        v = rew + gamma * V[s_new]\n",
    "        if v > best_value:\n",
    "            best_value = v\n",
    "            best_a = a\n",
    "    return best_a\n",
    "\n",
    "iteration = 0\n",
    "while True:\n",
    "    # biggest_change is referred to by the mathematical symbol delta in equations\n",
    "    biggest_change = 0\n",
    "    for s in range (0, n_states):\n",
    "        old_v = V[s]\n",
    "        action = best_action_value(s) #choosing an action with the highest future reward\n",
    "        env.env.s = s # goto the state\n",
    "        s_new, rew, done, info = env.step(action) #take the action\n",
    "        V[s] = rew + gamma * V[s_new] #Update Value for the state using Bellman equation\n",
    "        Pi[s] = action\n",
    "        biggest_change = max(biggest_change, np.abs(old_v - V[s]))\n",
    "    iteration += 1\n",
    "    if biggest_change < significant_improvement:\n",
    "        print('Finished in {} iterations'.format(iteration))\n",
    "        break"
   ]
  },
  {
   "cell_type": "code",
   "execution_count": 8,
   "metadata": {
    "scrolled": true
   },
   "outputs": [
    {
     "name": "stdout",
     "output_type": "stream",
     "text": [
      "+---------+\n",
      "|\u001b[34;1mR\u001b[0m: | : :G|\n",
      "| :\u001b[43m \u001b[0m| : : |\n",
      "| : : : : |\n",
      "| | : | : |\n",
      "|\u001b[35mY\u001b[0m| : |B: |\n",
      "+---------+\n",
      "\n",
      "+---------+\n",
      "|\u001b[34;1mR\u001b[0m:\u001b[43m \u001b[0m| : :G|\n",
      "| : | : : |\n",
      "| : : : : |\n",
      "| | : | : |\n",
      "|\u001b[35mY\u001b[0m| : |B: |\n",
      "+---------+\n",
      "  (North)\n",
      "+---------+\n",
      "|\u001b[34;1m\u001b[43mR\u001b[0m\u001b[0m: | : :G|\n",
      "| : | : : |\n",
      "| : : : : |\n",
      "| | : | : |\n",
      "|\u001b[35mY\u001b[0m| : |B: |\n",
      "+---------+\n",
      "  (West)\n",
      "+---------+\n",
      "|\u001b[42mR\u001b[0m: | : :G|\n",
      "| : | : : |\n",
      "| : : : : |\n",
      "| | : | : |\n",
      "|\u001b[35mY\u001b[0m| : |B: |\n",
      "+---------+\n",
      "  (Pickup)\n",
      "+---------+\n",
      "|R: | : :G|\n",
      "|\u001b[42m_\u001b[0m: | : : |\n",
      "| : : : : |\n",
      "| | : | : |\n",
      "|\u001b[35mY\u001b[0m| : |B: |\n",
      "+---------+\n",
      "  (South)\n",
      "+---------+\n",
      "|R: | : :G|\n",
      "| : | : : |\n",
      "|\u001b[42m_\u001b[0m: : : : |\n",
      "| | : | : |\n",
      "|\u001b[35mY\u001b[0m| : |B: |\n",
      "+---------+\n",
      "  (South)\n",
      "+---------+\n",
      "|R: | : :G|\n",
      "| : | : : |\n",
      "| : : : : |\n",
      "|\u001b[42m_\u001b[0m| : | : |\n",
      "|\u001b[35mY\u001b[0m| : |B: |\n",
      "+---------+\n",
      "  (South)\n",
      "+---------+\n",
      "|R: | : :G|\n",
      "| : | : : |\n",
      "| : : : : |\n",
      "| | : | : |\n",
      "|\u001b[35m\u001b[42mY\u001b[0m\u001b[0m| : |B: |\n",
      "+---------+\n",
      "  (South)\n",
      "+---------+\n",
      "|R: | : :G|\n",
      "| : | : : |\n",
      "| : : : : |\n",
      "| | : | : |\n",
      "|\u001b[35m\u001b[34;1m\u001b[43mY\u001b[0m\u001b[0m\u001b[0m| : |B: |\n",
      "+---------+\n",
      "  (Dropoff)\n",
      "Reward: 13\n"
     ]
    }
   ],
   "source": [
    "# Let's see how the algorithm solves the taxi game\n",
    "reward = 0\n",
    "obs = env.reset()\n",
    "env.render()\n",
    "done = False\n",
    "\n",
    "while done != True: \n",
    "    action = Pi[obs]\n",
    "    obs, rew, done, info = env.step(action) #take step using selected action\n",
    "    reward = reward + rew\n",
    "    env.render()\n",
    "#Print the reward of these actions\n",
    "print(\"Reward: %r\" % reward)  "
   ]
  },
  {
   "cell_type": "markdown",
   "metadata": {},
   "source": [
    "#### Model free approach - Q-Learning"
   ]
  },
  {
   "cell_type": "code",
   "execution_count": 17,
   "metadata": {},
   "outputs": [
    {
     "name": "stdout",
     "output_type": "stream",
     "text": [
      "Episode 50 Total Reward: -26\n",
      "Episode 100 Total Reward: -162\n",
      "Episode 150 Total Reward: 13\n",
      "Episode 200 Total Reward: 13\n",
      "Episode 250 Total Reward: 8\n",
      "Episode 300 Total Reward: 13\n",
      "Episode 350 Total Reward: 5\n",
      "Episode 400 Total Reward: 0\n",
      "Episode 450 Total Reward: 11\n",
      "Episode 500 Total Reward: 13\n",
      "Episode 550 Total Reward: 10\n",
      "Episode 600 Total Reward: 7\n",
      "Episode 650 Total Reward: 7\n",
      "Episode 700 Total Reward: 10\n",
      "Episode 750 Total Reward: 4\n",
      "Episode 800 Total Reward: 6\n",
      "Episode 850 Total Reward: 7\n",
      "Episode 900 Total Reward: 9\n",
      "Episode 950 Total Reward: 3\n",
      "Episode 1000 Total Reward: 12\n"
     ]
    }
   ],
   "source": [
    "n_actions = env.action_space.n\n",
    "n_states = env.observation_space.n\n",
    "Q = np.zeros([n_states, n_actions]) #You could also make this dynamic if you don't know all games states upfront\n",
    "gamma = 0.9 # discount factor\n",
    "alpha = 0.9 # learning rate\n",
    "rewards = []\n",
    "for episode in range(1,1001):\n",
    "    done = False\n",
    "    rew_tot = 0\n",
    "    obs = env.reset()\n",
    "    while done != True:\n",
    "            action = np.argmax(Q[obs]) #choosing the action with the highest Q value \n",
    "            obs2, rew, done, info = env.step(action) #take the action\n",
    "            Q[obs,action] += alpha * (rew + gamma * np.max(Q[obs2]) - Q[obs,action]) #Update Q-matrix using Bellman equation\n",
    "            #Q[obs,action] = rew + gamma * np.max(Q[obs2]) # same equation but with learning rate = 1 returns the basic Bellman equation\n",
    "            rew_tot = rew_tot + rew\n",
    "            rewards.append(rew_tot)\n",
    "            obs = obs2   \n",
    "    if episode % 50 == 0:\n",
    "        print('Episode {} Total Reward: {}'.format(episode,rew_tot))"
   ]
  },
  {
   "cell_type": "code",
   "execution_count": 47,
   "metadata": {},
   "outputs": [
    {
     "data": {
      "image/png": "[encoded data removed]",
      "text/plain": [
       "<Figure size 640x480 with 1 Axes>"
      ]
     },
     "metadata": {
      "needs_background": "light"
     },
     "output_type": "display_data"
    }
   ],
   "source": [
    "from matplotlib.pyplot import figure\n",
    "figure(figsize=(8, 6), dpi=80)\n",
    "plt.plot(rewards)\n",
    "plt.title(\"Taxi Game Reward Graph\")\n",
    "plt.xlabel(\"Action\")\n",
    "plt.ylabel(\"Reward\")\n",
    "plt.show()\n"
   ]
  },
  {
   "cell_type": "markdown",
   "metadata": {},
   "source": [
    "In the case of the Taxi game there is a reward of -1 for each action. If the agent finds itself in a state where the algorithm explored \"South\" which let to no value the Q-matrix is updated to -1. The next iteration will try an action that is not yet tried and still on 0. This approach encourages a systematic exploration of states and actions.\n",
    "\n",
    "If the learning rate alpha is set to 1 the Taxi game will be solved, the reason being that there is only one reward (dropoff passenger), so the algorithm will find it whatever learning rate. In the case of a game that has more reward places the learning rate will determine if it the agent should prioritize longer term or short term rewards."
   ]
  },
  {
   "cell_type": "code",
   "execution_count": 20,
   "metadata": {
    "scrolled": true
   },
   "outputs": [
    {
     "name": "stdout",
     "output_type": "stream",
     "text": [
      "+---------+\n",
      "|\u001b[34;1mR\u001b[0m: | : :G|\n",
      "|\u001b[43m \u001b[0m: | : : |\n",
      "| : : : : |\n",
      "| | : | : |\n",
      "|Y| : |\u001b[35mB\u001b[0m: |\n",
      "+---------+\n",
      "\n",
      "+---------+\n",
      "|\u001b[34;1m\u001b[43mR\u001b[0m\u001b[0m: | : :G|\n",
      "| : | : : |\n",
      "| : : : : |\n",
      "| | : | : |\n",
      "|Y| : |\u001b[35mB\u001b[0m: |\n",
      "+---------+\n",
      "  (North)\n",
      "+---------+\n",
      "|\u001b[42mR\u001b[0m: | : :G|\n",
      "| : | : : |\n",
      "| : : : : |\n",
      "| | : | : |\n",
      "|Y| : |\u001b[35mB\u001b[0m: |\n",
      "+---------+\n",
      "  (Pickup)\n",
      "+---------+\n",
      "|R: | : :G|\n",
      "|\u001b[42m_\u001b[0m: | : : |\n",
      "| : : : : |\n",
      "| | : | : |\n",
      "|Y| : |\u001b[35mB\u001b[0m: |\n",
      "+---------+\n",
      "  (South)\n",
      "+---------+\n",
      "|R: | : :G|\n",
      "| :\u001b[42m_\u001b[0m| : : |\n",
      "| : : : : |\n",
      "| | : | : |\n",
      "|Y| : |\u001b[35mB\u001b[0m: |\n",
      "+---------+\n",
      "  (East)\n",
      "+---------+\n",
      "|R: | : :G|\n",
      "| : | : : |\n",
      "| :\u001b[42m_\u001b[0m: : : |\n",
      "| | : | : |\n",
      "|Y| : |\u001b[35mB\u001b[0m: |\n",
      "+---------+\n",
      "  (South)\n",
      "+---------+\n",
      "|R: | : :G|\n",
      "| : | : : |\n",
      "| : :\u001b[42m_\u001b[0m: : |\n",
      "| | : | : |\n",
      "|Y| : |\u001b[35mB\u001b[0m: |\n",
      "+---------+\n",
      "  (East)\n",
      "+---------+\n",
      "|R: | : :G|\n",
      "| : | : : |\n",
      "| : : :\u001b[42m_\u001b[0m: |\n",
      "| | : | : |\n",
      "|Y| : |\u001b[35mB\u001b[0m: |\n",
      "+---------+\n",
      "  (East)\n",
      "+---------+\n",
      "|R: | : :G|\n",
      "| : | : : |\n",
      "| : : : : |\n",
      "| | : |\u001b[42m_\u001b[0m: |\n",
      "|Y| : |\u001b[35mB\u001b[0m: |\n",
      "+---------+\n",
      "  (South)\n",
      "+---------+\n",
      "|R: | : :G|\n",
      "| : | : : |\n",
      "| : : : : |\n",
      "| | : | : |\n",
      "|Y| : |\u001b[35m\u001b[42mB\u001b[0m\u001b[0m: |\n",
      "+---------+\n",
      "  (South)\n",
      "+---------+\n",
      "|R: | : :G|\n",
      "| : | : : |\n",
      "| : : : : |\n",
      "| | : | : |\n",
      "|Y| : |\u001b[35m\u001b[34;1m\u001b[43mB\u001b[0m\u001b[0m\u001b[0m: |\n",
      "+---------+\n",
      "  (Dropoff)\n",
      "Reward: 11\n"
     ]
    }
   ],
   "source": [
    "# Let's see how the algorithm solves the taxi game by following the policy to take actions delivering max value\n",
    "reward = 0\n",
    "obs = env.reset()\n",
    "env.render()\n",
    "done = False\n",
    "while done != True: \n",
    "    action = np.argmax(Q[obs])\n",
    "    obs, rew, done, info = env.step(action) #take step using selected action\n",
    "    reward = reward + rew\n",
    "    env.render()\n",
    "#Print the reward of these actions\n",
    "print(\"Reward: %r\" % reward)  "
   ]
  },
  {
   "cell_type": "markdown",
   "metadata": {},
   "source": [
    "### Frozen lakes\n",
    "\n",
    "\"Winter is here. You and your friends were tossing around a frisbee at the park when you made a wild throw that left the frisbee out in the middle of the lake. The water is mostly frozen, but there are a few holes where the ice has melted. If you step into one of those holes, you'll fall into the freezing water. At this time, there's an international frisbee shortage, so it's absolutely imperative that you navigate across the lake and retrieve the disc. However, the ice is slippery, so you won't always move in the direction you intend.\"\n",
    "\n",
    "- S: Start point\n",
    "- F: Frozen zone\n",
    "- H: Hole\n",
    "- G: Goal where the frisbee has fallen\n",
    "\n",
    "In this case we have a non-deterministic environment in which the description defines the frozen lake as \"slippery\" meaning that the decisions the agent takes won't follow one single calculated path."
   ]
  },
  {
   "cell_type": "code",
   "execution_count": 21,
   "metadata": {},
   "outputs": [
    {
     "name": "stdout",
     "output_type": "stream",
     "text": [
      "\n",
      "\u001b[41mS\u001b[0mFFF\n",
      "FHFH\n",
      "FFFH\n",
      "HFFG\n"
     ]
    }
   ],
   "source": [
    "env = gym.make('FrozenLake-v0')\n",
    "reward = 0\n",
    "obs = env.reset()\n",
    "env.render()"
   ]
  },
  {
   "cell_type": "code",
   "execution_count": 29,
   "metadata": {},
   "outputs": [
    {
     "name": "stdout",
     "output_type": "stream",
     "text": [
      "Episode 5000 average reward: 0.0\n",
      "Episode 10000 average reward: 0.09\n",
      "Episode 15000 average reward: 0.39\n",
      "Episode 20000 average reward: 0.55\n",
      "Episode 25000 average reward: 0.65\n",
      "Episode 30000 average reward: 0.68\n",
      "Episode 35000 average reward: 0.7\n",
      "Episode 40000 average reward: 0.69\n",
      "Episode 45000 average reward: 0.78\n",
      "Episode 50000 average reward: 0.74\n",
      "Episode 55000 average reward: 0.77\n",
      "Episode 60000 average reward: 0.79\n",
      "Episode 65000 average reward: 0.76\n",
      "Episode 70000 average reward: 0.76\n",
      "Episode 75000 average reward: 0.72\n",
      "Episode 80000 average reward: 0.74\n",
      "Episode 85000 average reward: 0.8\n",
      "Episode 90000 average reward: 0.74\n",
      "Episode 95000 average reward: 0.74\n",
      "Episode 100000 average reward: 0.78\n",
      "Episode 105000 average reward: 0.76\n",
      "Episode 110000 average reward: 0.73\n",
      "Episode 115000 average reward: 0.64\n",
      "Episode 120000 average reward: 0.76\n",
      "Episode 125000 average reward: 0.8\n",
      "Episode 130000 average reward: 0.85\n",
      "Frozen lake solved\n"
     ]
    }
   ],
   "source": [
    "env = gym.make('FrozenLake-v0')\n",
    "env.reset()\n",
    "\n",
    "n_actions = env.action_space.n\n",
    "n_states = env.observation_space.n\n",
    "Q = np.zeros([n_states, n_actions]) #You could also make this dynamic if you don't know all games states upfront\n",
    "\n",
    "gamma = 0.95 # discount factor\n",
    "alpha = 0.01 # learning rate\n",
    "epsilon = 0.1 #\n",
    "avgrwrd = []\n",
    "for episode in range(1,500001):\n",
    "    done = False\n",
    "    obs = env.reset()\n",
    "    while done != True:\n",
    "        if np.random.rand(1) < epsilon:\n",
    "            # exploration with a new option with probability epsilon, the epsilon greedy approach\n",
    "            action = env.action_space.sample()\n",
    "        else:\n",
    "            # exploitation\n",
    "            action = np.argmax(Q[obs])\n",
    "        obs2, rew, done, info = env.step(action) #take the action\n",
    "        Q[obs,action] += alpha * (rew + gamma * np.max(Q[obs2]) - Q[obs,action]) #Update Q-matrix using Bellman equation\n",
    "        obs = obs2   \n",
    "        \n",
    "    if episode % 5000 == 0:\n",
    "        #report every 5000 steps, test 100 games to get avarage point score for statistics and verify if it is solved\n",
    "        rew_average = 0.\n",
    "        for i in range(100):\n",
    "            obs= env.reset()\n",
    "            done=False\n",
    "            while done != True: \n",
    "                action = np.argmax(Q[obs])\n",
    "                obs, rew, done, info = env.step(action) #take step using selected action\n",
    "                rew_average += rew\n",
    "        rew_average=rew_average/100\n",
    "        avgrwrd.append(rew_average)\n",
    "        print('Episode {} average reward: {}'.format(episode,rew_average))\n",
    "        \n",
    "        if rew_average > 0.8:\n",
    "            # FrozenLake-v0 defines \"solving\" as getting average reward of 0.78 over 100 consecutive trials.\n",
    "            # Test it on 0.8 so it is not a one-off lucky shot solving it\n",
    "            print(\"Frozen lake solved\")\n",
    "            break"
   ]
  },
  {
   "cell_type": "code",
   "execution_count": 48,
   "metadata": {},
   "outputs": [
    {
     "data": {
      "image/png": "[encoded data removed]",
      "text/plain": [
       "<Figure size 640x480 with 1 Axes>"
      ]
     },
     "metadata": {
      "needs_background": "light"
     },
     "output_type": "display_data"
    }
   ],
   "source": [
    "figure(figsize=(8, 6), dpi=80)\n",
    "plt.plot(avgrwrd)\n",
    "plt.title(\"Frozen Lake Reward Graph\")\n",
    "plt.xlabel(\"Action\")\n",
    "plt.ylabel(\"Reward\")\n",
    "plt.show()"
   ]
  },
  {
   "cell_type": "code",
   "execution_count": 32,
   "metadata": {},
   "outputs": [
    {
     "name": "stdout",
     "output_type": "stream",
     "text": [
      "  (Left)\n",
      "SFFF\n",
      "\u001b[41mF\u001b[0mHFH\n",
      "FFFH\n",
      "HFFG\n",
      "  (Left)\n",
      "\u001b[41mS\u001b[0mFFF\n",
      "FHFH\n",
      "FFFH\n",
      "HFFG\n",
      "  (Left)\n",
      "SFFF\n",
      "\u001b[41mF\u001b[0mHFH\n",
      "FFFH\n",
      "HFFG\n",
      "  (Left)\n",
      "SFFF\n",
      "\u001b[41mF\u001b[0mHFH\n",
      "FFFH\n",
      "HFFG\n",
      "  (Left)\n",
      "SFFF\n",
      "FHFH\n",
      "\u001b[41mF\u001b[0mFFH\n",
      "HFFG\n",
      "  (Up)\n",
      "SFFF\n",
      "FHFH\n",
      "F\u001b[41mF\u001b[0mFH\n",
      "HFFG\n",
      "  (Down)\n",
      "SFFF\n",
      "FHFH\n",
      "FFFH\n",
      "H\u001b[41mF\u001b[0mFG\n",
      "  (Right)\n",
      "SFFF\n",
      "FHFH\n",
      "F\u001b[41mF\u001b[0mFH\n",
      "HFFG\n",
      "  (Down)\n",
      "SFFF\n",
      "FHFH\n",
      "\u001b[41mF\u001b[0mFFH\n",
      "HFFG\n",
      "  (Up)\n",
      "SFFF\n",
      "\u001b[41mF\u001b[0mHFH\n",
      "FFFH\n",
      "HFFG\n",
      "  (Left)\n",
      "SFFF\n",
      "FHFH\n",
      "\u001b[41mF\u001b[0mFFH\n",
      "HFFG\n",
      "  (Up)\n",
      "SFFF\n",
      "FHFH\n",
      "\u001b[41mF\u001b[0mFFH\n",
      "HFFG\n",
      "  (Up)\n",
      "SFFF\n",
      "FHFH\n",
      "F\u001b[41mF\u001b[0mFH\n",
      "HFFG\n",
      "  (Down)\n",
      "SFFF\n",
      "FHFH\n",
      "\u001b[41mF\u001b[0mFFH\n",
      "HFFG\n",
      "  (Up)\n",
      "SFFF\n",
      "FHFH\n",
      "\u001b[41mF\u001b[0mFFH\n",
      "HFFG\n",
      "  (Up)\n",
      "SFFF\n",
      "\u001b[41mF\u001b[0mHFH\n",
      "FFFH\n",
      "HFFG\n",
      "  (Left)\n",
      "\u001b[41mS\u001b[0mFFF\n",
      "FHFH\n",
      "FFFH\n",
      "HFFG\n",
      "  (Left)\n",
      "\u001b[41mS\u001b[0mFFF\n",
      "FHFH\n",
      "FFFH\n",
      "HFFG\n",
      "  (Left)\n",
      "\u001b[41mS\u001b[0mFFF\n",
      "FHFH\n",
      "FFFH\n",
      "HFFG\n",
      "  (Left)\n",
      "\u001b[41mS\u001b[0mFFF\n",
      "FHFH\n",
      "FFFH\n",
      "HFFG\n",
      "  (Left)\n",
      "\u001b[41mS\u001b[0mFFF\n",
      "FHFH\n",
      "FFFH\n",
      "HFFG\n",
      "  (Left)\n",
      "SFFF\n",
      "\u001b[41mF\u001b[0mHFH\n",
      "FFFH\n",
      "HFFG\n",
      "  (Left)\n",
      "SFFF\n",
      "FHFH\n",
      "\u001b[41mF\u001b[0mFFH\n",
      "HFFG\n",
      "  (Up)\n",
      "SFFF\n",
      "FHFH\n",
      "F\u001b[41mF\u001b[0mFH\n",
      "HFFG\n",
      "  (Down)\n",
      "SFFF\n",
      "FHFH\n",
      "FFFH\n",
      "H\u001b[41mF\u001b[0mFG\n",
      "  (Right)\n",
      "SFFF\n",
      "FHFH\n",
      "FFFH\n",
      "HF\u001b[41mF\u001b[0mG\n",
      "  (Down)\n",
      "SFFF\n",
      "FHFH\n",
      "FFFH\n",
      "HF\u001b[41mF\u001b[0mG\n",
      "  (Down)\n",
      "SFFF\n",
      "FHFH\n",
      "FFFH\n",
      "HFF\u001b[41mG\u001b[0m\n",
      "Final reward: 1.0\n"
     ]
    }
   ],
   "source": [
    "# Let's see how the algorithm solves the frozen-lakes game\n",
    "env = gym.make('FrozenLake-v0')\n",
    "env.reset()\n",
    "\n",
    "reward = 0\n",
    "obs = env.reset()\n",
    "done = False\n",
    "\n",
    "while done != True: \n",
    "    action = np.argmax(Q[obs])\n",
    "    obs, rew, done, info = env.step(action) #take step using selected action\n",
    "    reward += rew\n",
    "    env.render()\n",
    "\n",
    "print(\"Final reward:\", reward)  "
   ]
  },
  {
   "cell_type": "markdown",
   "metadata": {},
   "source": [
    "By analizing the moves we can see that if you want to move to the rigth, there is a significant chance you move up or down. Similarly if you want to move up, there is a significant chance you move left or right. The agent has learned that if you are on the frozen tile left column second row and you want to move down it is risky to give the down command because you could move to the right into the hole, so it gives the left command because it will keep it on the tile or move up or down, but not to the right. The agent has learned to take the actions with the least risk by accidently slipping and drowning in a hole.\n",
    "\n",
    "\n",
    "It is very important to notice that this Q-Learning algorithm used thousands of iterations to find the optimal policy in a game that has a 4x4 environment"
   ]
  },
  {
   "cell_type": "markdown",
   "metadata": {},
   "source": [
    "## Neural Nets Applied to Reinforcement Learning"
   ]
  },
  {
   "cell_type": "markdown",
   "metadata": {},
   "source": [
    "### Inverted Pendulum"
   ]
  },
  {
   "cell_type": "code",
   "execution_count": 33,
   "metadata": {},
   "outputs": [
    {
     "name": "stdout",
     "output_type": "stream",
     "text": [
      "Press enter to close environment...\n"
     ]
    }
   ],
   "source": [
    "env = gym.make('CartPole-v1')\n",
    "reward = 0\n",
    "obs = env.reset()\n",
    "env.render()\n",
    "input(\"Press enter to close environment...\")\n",
    "env.close()"
   ]
  },
  {
   "cell_type": "markdown",
   "metadata": {},
   "source": [
    "![image info](./images/inverted_pendulum.png)"
   ]
  },
  {
   "cell_type": "code",
   "execution_count": 34,
   "metadata": {},
   "outputs": [
    {
     "name": "stdout",
     "output_type": "stream",
     "text": [
      "Discrete(2)\n",
      "Box(-3.4028234663852886e+38, 3.4028234663852886e+38, (4,), float32)\n"
     ]
    }
   ],
   "source": [
    "print(env.action_space) # Discrete(2)\n",
    "print(env.observation_space) # Box(4,)"
   ]
  },
  {
   "cell_type": "markdown",
   "metadata": {
    "heading_collapsed": true
   },
   "source": [
    "#### Random decision agent"
   ]
  },
  {
   "cell_type": "code",
   "execution_count": 35,
   "metadata": {
    "hidden": true
   },
   "outputs": [],
   "source": [
    "# Global variables\n",
    "num_episodes = 10\n",
    "max_timestep = 1000\n",
    "# The main program loop\n",
    "for episode in range(num_episodes):\n",
    "    observation = env.reset()\n",
    "    # Iterating through time steps within an episode\n",
    "    for t in range(max_timestep):\n",
    "        env.render()\n",
    "        action = env.action_space.sample()\n",
    "        observation, reward, done, info = env.step(action)\n",
    "        if done:\n",
    "            # If the pole has tipped over, end this episode\n",
    "            break\n",
    "env.close()"
   ]
  },
  {
   "cell_type": "markdown",
   "metadata": {
    "heading_collapsed": true
   },
   "source": [
    "#### Neural Network"
   ]
  },
  {
   "cell_type": "code",
   "execution_count": 36,
   "metadata": {
    "hidden": true
   },
   "outputs": [],
   "source": [
    "class NNLayer:\n",
    "    # class representing a neural net layer\n",
    "    def __init__(self, input_size, output_size, activation=None, lr = 0.001):\n",
    "        self.input_size = input_size\n",
    "        self.output_size = output_size\n",
    "        self.weights = np.random.uniform(low=-0.5, high=0.5, size=(input_size, output_size))\n",
    "        self.stored_weights = np.copy(self.weights)\n",
    "        self.activation_function = activation\n",
    "        self.lr = lr\n",
    "        self.m = np.zeros((input_size, output_size))\n",
    "        self.v = np.zeros((input_size, output_size))\n",
    "        self.beta_1 = 0.9\n",
    "        self.beta_2 = 0.999\n",
    "        self.time = 1\n",
    "        self.adam_epsilon = 0.00000001\n",
    "\n",
    "    # Compute the forward pass for this layer\n",
    "    def forward(self, inputs, remember_for_backprop=True):\n",
    "        # inputs has shape batch_size x layer_input_size \n",
    "        input_with_bias = np.append(inputs,1)\n",
    "        unactivated = None\n",
    "        if remember_for_backprop:\n",
    "            unactivated = np.dot(input_with_bias, self.weights)\n",
    "        else: \n",
    "            unactivated = np.dot(input_with_bias, self.stored_weights)\n",
    "        # store variables for backward pass\n",
    "        output = unactivated\n",
    "        if self.activation_function != None:\n",
    "            # assuming here the activation function is relu, this can be made more robust\n",
    "            output = self.activation_function(output)\n",
    "        if remember_for_backprop:\n",
    "            self.backward_store_in = input_with_bias\n",
    "            self.backward_store_out = np.copy(unactivated)\n",
    "        return output    \n",
    "        \n",
    "    def update_weights(self, gradient):        \n",
    "        m_temp = np.copy(self.m)\n",
    "        v_temp = np.copy(self.v) \n",
    "        \n",
    "        m_temp = self.beta_1*m_temp + (1-self.beta_1)*gradient\n",
    "        v_temp = self.beta_2*v_temp + (1-self.beta_2)*(gradient*gradient)\n",
    "        m_vec_hat = m_temp/(1-np.power(self.beta_1, self.time+0.1))\n",
    "        v_vec_hat = v_temp/(1-np.power(self.beta_2, self.time+0.1))\n",
    "        self.weights = self.weights - np.divide(self.lr*m_vec_hat, np.sqrt(v_vec_hat)+self.adam_epsilon)\n",
    "        \n",
    "        self.m = np.copy(m_temp)\n",
    "        self.v = np.copy(v_temp)\n",
    "        \n",
    "    def update_stored_weights(self):\n",
    "        self.stored_weights = np.copy(self.weights)\n",
    "        \n",
    "    def update_time(self):\n",
    "        self.time = self.time+1\n",
    "        \n",
    "    def backward(self, gradient_from_above):\n",
    "        adjusted_mul = gradient_from_above\n",
    "        # this is pointwise\n",
    "        if self.activation_function != None:\n",
    "            adjusted_mul = np.multiply(relu_derivative(self.backward_store_out),gradient_from_above)\n",
    "        D_i = np.dot(np.transpose(np.reshape(self.backward_store_in, (1, len(self.backward_store_in)))), np.reshape(adjusted_mul, (1,len(adjusted_mul))))\n",
    "        delta_i = np.dot(adjusted_mul, np.transpose(self.weights))[:-1]\n",
    "        self.update_weights(D_i)\n",
    "        return delta_i"
   ]
  },
  {
   "cell_type": "markdown",
   "metadata": {
    "heading_collapsed": true
   },
   "source": [
    "####  Custom Agent"
   ]
  },
  {
   "cell_type": "code",
   "execution_count": 37,
   "metadata": {
    "hidden": true
   },
   "outputs": [],
   "source": [
    "class RLAgent:\n",
    "    # class representing a reinforcement learning agent\n",
    "    env = None\n",
    "    def __init__(self, env, num_hidden_layers=2, hidden_size=24, gamma=0.95, epsilon_decay=0.997, epsilon_min=0.01):\n",
    "        self.env = env\n",
    "        self.hidden_size = hidden_size\n",
    "        self.input_size = env.observation_space.shape[0]\n",
    "        self.output_size = env.action_space.n\n",
    "        self.num_hidden_layers = num_hidden_layers\n",
    "        self.epsilon = 1.0\n",
    "        self.epsilon_decay = 0.997\n",
    "        self.epsilon_min = epsilon_min\n",
    "        self.memory = deque([],1000000)\n",
    "        self.gamma = gamma\n",
    "        \n",
    "        self.layers = [NNLayer(self.input_size + 1, self.hidden_size, activation=relu)]\n",
    "        for i in range(self.num_hidden_layers-1):\n",
    "            self.layers.append(NNLayer(self.hidden_size+1, self.hidden_size, activation=relu))\n",
    "        self.layers.append(NNLayer(self.hidden_size+1, self.output_size))\n",
    "        \n",
    "    def select_action(self, observation):\n",
    "        values = self.forward(np.asmatrix(observation))\n",
    "        if (np.random.random() > self.epsilon):\n",
    "            return np.argmax(values)\n",
    "        else:\n",
    "            return np.random.randint(self.env.action_space.n)\n",
    "            \n",
    "    def forward(self, observation, remember_for_backprop=True):\n",
    "        vals = np.copy(observation)\n",
    "        index = 0\n",
    "        for layer in self.layers:\n",
    "            vals = layer.forward(vals, remember_for_backprop)\n",
    "            index = index + 1\n",
    "        return vals\n",
    "        \n",
    "    def remember(self, done, action, observation, prev_obs):\n",
    "        self.memory.append([done, action, observation, prev_obs])\n",
    "        \n",
    "    def experience_replay(self, update_size=20):\n",
    "        if (len(self.memory) < update_size):\n",
    "            return\n",
    "        else: \n",
    "            batch_indices = np.random.choice(len(self.memory), update_size)\n",
    "            for index in batch_indices:\n",
    "                done, action_selected, new_obs, prev_obs = self.memory[index]\n",
    "                action_values = self.forward(prev_obs, remember_for_backprop=True)\n",
    "                next_action_values = self.forward(new_obs, remember_for_backprop=False)\n",
    "                experimental_values = np.copy(action_values)\n",
    "                if done:\n",
    "                    experimental_values[action_selected] = -1\n",
    "                else:\n",
    "                    experimental_values[action_selected] = 1 + self.gamma*np.max(next_action_values)\n",
    "                self.backward(action_values, experimental_values)\n",
    "        self.epsilon = self.epsilon if self.epsilon < self.epsilon_min else self.epsilon*self.epsilon_decay\n",
    "        for layer in self.layers:\n",
    "            layer.update_time()\n",
    "            layer.update_stored_weights()\n",
    "        \n",
    "    def backward(self, calculated_values, experimental_values): \n",
    "        # values are batched = batch_size x output_size\n",
    "        delta = (calculated_values - experimental_values)\n",
    "        # print('delta = {}'.format(delta))\n",
    "        for layer in reversed(self.layers):\n",
    "            delta = layer.backward(delta)"
   ]
  },
  {
   "cell_type": "code",
   "execution_count": 38,
   "metadata": {
    "hidden": true
   },
   "outputs": [],
   "source": [
    "env = gym.make('CartPole-v1')\n",
    "\n",
    "def relu(mat):\n",
    "    return np.multiply(mat,(mat>0))\n",
    "    \n",
    "def relu_derivative(mat):\n",
    "    return (mat>0)*1"
   ]
  },
  {
   "cell_type": "markdown",
   "metadata": {},
   "source": [
    "#### InvertedPendulum training and execution"
   ]
  },
  {
   "cell_type": "code",
   "execution_count": 52,
   "metadata": {},
   "outputs": [
    {
     "name": "stdout",
     "output_type": "stream",
     "text": [
      "solved after 48 episodes\n"
     ]
    }
   ],
   "source": [
    "# Global variables\n",
    "NUM_EPISODES = 1000\n",
    "MAX_TIMESTEPS = 500\n",
    "AVERAGE_REWARD_TO_SOLVE = 50\n",
    "NUM_EPS_TO_SOLVE = 10\n",
    "NUM_RUNS = 20\n",
    "GAMMA = 0.95\n",
    "EPSILON_DECAY = 0.997\n",
    "update_size = 10\n",
    "hidden_layer_size = 24\n",
    "num_hidden_layers = 2\n",
    "timesteps = []\n",
    "model = RLAgent(env,num_hidden_layers,hidden_layer_size,GAMMA,EPSILON_DECAY)\n",
    "scores_last_timesteps = deque([], NUM_EPS_TO_SOLVE)\n",
    "\n",
    "\n",
    "# The main program loop\n",
    "for i_episode in range(NUM_EPISODES):\n",
    "    observation = env.reset()\n",
    "    if i_episode >= NUM_EPS_TO_SOLVE:\n",
    "        if (sum(scores_last_timesteps)/NUM_EPS_TO_SOLVE > AVERAGE_REWARD_TO_SOLVE):\n",
    "            print(\"solved after {} episodes\".format(i_episode))\n",
    "            break\n",
    "    # Iterating through time steps within an episode\n",
    "    for t in range(MAX_TIMESTEPS):\n",
    "        env.render()\n",
    "        action = model.select_action(observation)\n",
    "        prev_obs = observation\n",
    "        observation, reward, done, info = env.step(action)\n",
    "        # Keep a store of the agent's experiences\n",
    "        model.remember(done, action, observation, prev_obs)\n",
    "        model.experience_replay(update_size)\n",
    "        # epsilon decay\n",
    "        if done:\n",
    "            # If the pole has tipped over, end this episode\n",
    "            scores_last_timesteps.append(t+1)\n",
    "            timesteps.append(t+1)\n",
    "            break\n",
    "\n",
    "env.close()"
   ]
  },
  {
   "cell_type": "code",
   "execution_count": 53,
   "metadata": {},
   "outputs": [
    {
     "data": {
      "image/png": "[encoded data removed]",
      "text/plain": [
       "<Figure size 640x480 with 1 Axes>"
      ]
     },
     "metadata": {
      "needs_background": "light"
     },
     "output_type": "display_data"
    }
   ],
   "source": [
    "figure(figsize=(8, 6), dpi=80)\n",
    "plt.plot(timesteps)\n",
    "plt.title(\"CartPole Timesteps til Fall\")\n",
    "plt.xlabel(\"Action\")\n",
    "plt.ylabel(\"Timesteps\")\n",
    "plt.show()"
   ]
  },
  {
   "cell_type": "markdown",
   "metadata": {},
   "source": [
    "## ATARI Games and Mario Bros"
   ]
  },
  {
   "cell_type": "code",
   "execution_count": 54,
   "metadata": {},
   "outputs": [],
   "source": [
    "# # Set-up the virtual display environment\n",
    "# !apt-get update\n",
    "# !apt-get install python-opengl -y\n",
    "# !apt install xvfb -y\n",
    "# !pip install pyvirtualdisplay\n",
    "# !pip install piglet\n",
    "# !apt-get install ffmpeg -y"
   ]
  },
  {
   "cell_type": "code",
   "execution_count": 55,
   "metadata": {},
   "outputs": [],
   "source": [
    "from nes_py.wrappers import JoypadSpace\n",
    "import gym_super_mario_bros\n",
    "from gym_super_mario_bros.actions import SIMPLE_MOVEMENT\n",
    "env = gym_super_mario_bros.make('SuperMarioBros-v0')\n",
    "env = JoypadSpace(env, SIMPLE_MOVEMENT)\n",
    "\n",
    "done = True\n",
    "for step in range(5000):\n",
    "    if done:\n",
    "        state = env.reset()\n",
    "    state, reward, done, info = env.step(env.action_space.sample())\n",
    "    env.render()\n",
    "\n",
    "env.close()"
   ]
  },
  {
   "cell_type": "markdown",
   "metadata": {},
   "source": [
    "![image info](./images/mario_bros.png)"
   ]
  },
  {
   "cell_type": "code",
   "execution_count": 58,
   "metadata": {},
   "outputs": [
    {
     "name": "stdout",
     "output_type": "stream",
     "text": [
      "Observation space: Box(0, 255, (210, 160, 3), uint8)\n",
      "Action space: Discrete(4)\n"
     ]
    },
    {
     "data": {
      "image/png": "[encoded data removed]",
      "text/plain": [
       "<Figure size 432x288 with 1 Axes>"
      ]
     },
     "metadata": {
      "needs_background": "light"
     },
     "output_type": "display_data"
    }
   ],
   "source": [
    "env = gym.make(\"BreakoutNoFrameskip-v4\")\n",
    "plt.imshow(env.render('rgb_array'))\n",
    "plt.grid(False)\n",
    "\n",
    "print(\"Observation space:\", env.observation_space)\n",
    "print(\"Action space:\", env.action_space)"
   ]
  },
  {
   "cell_type": "code",
   "execution_count": 59,
   "metadata": {},
   "outputs": [
    {
     "name": "stdout",
     "output_type": "stream",
     "text": [
      "Observation space: Box(0, 255, (210, 160, 3), uint8)\n",
      "Action space: Discrete(9)\n"
     ]
    },
    {
     "data": {
      "image/png": "[encoded data removed]",
      "text/plain": [
       "<Figure size 432x288 with 1 Axes>"
      ]
     },
     "metadata": {
      "needs_background": "light"
     },
     "output_type": "display_data"
    }
   ],
   "source": [
    "env = gym.make(\"MsPacmanNoFrameskip-v4\")\n",
    "plt.imshow(env.render('rgb_array'))\n",
    "plt.grid(False)\n",
    "print(\"Observation space:\", env.observation_space)\n",
    "print(\"Action space:\", env.action_space)"
   ]
  },
  {
   "cell_type": "code",
   "execution_count": 60,
   "metadata": {},
   "outputs": [
    {
     "name": "stdout",
     "output_type": "stream",
     "text": [
      "Observation space: Box(0, 255, (210, 160, 3), uint8)\n",
      "Action space: Discrete(6)\n"
     ]
    },
    {
     "data": {
      "image/png": "[encoded data removed]",
      "text/plain": [
       "<Figure size 432x288 with 1 Axes>"
      ]
     },
     "metadata": {
      "needs_background": "light"
     },
     "output_type": "display_data"
    }
   ],
   "source": [
    "env = gym.make(\"SpaceInvadersNoFrameskip-v4\")\n",
    "plt.imshow(env.render('rgb_array'))\n",
    "plt.grid(False)\n",
    "print(\"Observation space:\", env.observation_space)\n",
    "print(\"Action space:\", env.action_space)"
   ]
  },
  {
   "cell_type": "markdown",
   "metadata": {},
   "source": [
    "## Discussion"
   ]
  },
  {
   "cell_type": "markdown",
   "metadata": {},
   "source": [
    "Overall, even though we learned a lot about reinforcement learning and its intricacies, there were some limitations to our work. The Taxi, Frozen Lake and the Pendulum worked well for us after a lot of effort and research, but when we tried delving deeper into games such as Mario Bros and ATARI, we realized that the rabbit-hole only gets deeper. Reinforcement learning is an extremely vast topic. To analyze more difficult games we would have to take videos to then analyze with neural nets, and the whole process of jumping to and from different parts of the process is very complicated. Something that we would do differently in the future is to first do more research about the math and understanding behind it all, since our code describes a lot of different parts of reinforcement learning but not too profoundly. For the future, we would definitely like to continue with Mario Bros, since we find it fascinating how intricate and complex reinforcement learning can be, and all the possibilities that it brings. Furthermore, since both of us are fans of computer vision and playing around with neural network, researching and solving these problems will continue to push us and make ourselves better. "
   ]
  },
  {
   "cell_type": "markdown",
   "metadata": {},
   "source": [
    "## Resources"
   ]
  },
  {
   "cell_type": "markdown",
   "metadata": {},
   "source": [
    "https://www.oreilly.com/radar/introduction-to-reinforcement-learning-and-openai-gym/\n",
    "\n",
    "https://www.kaggle.com/charel/learn-by-example-reinforcement-learning-with-gym\n",
    "\n",
    "https://www.kaggle.com/charel/learn-by-example-reinforcement-learning-gym-setup\n",
    "\n",
    "https://www.youtube.com/watch?v=2P2Dj5PX5cg&t=46s\n",
    "\n",
    "https://towardsdatascience.com/creating-deep-neural-networks-from-scratch-an-introduction-to-reinforcement-learning-part-i-549ef7b149d2\n",
    "\n",
    "https://towardsdatascience.com/creating-deep-neural-networks-from-scratch-an-introduction-to-reinforcement-learning-6bba874019db\n",
    "\n",
    "https://towardsdatascience.com/creating-deep-neural-networks-from-scratch-an-introduction-to-reinforcement-learning-95bcb493a0c9\n",
    "\n",
    "Libraries\n",
    "https://github.com/keras-rl/keras-rl\n",
    "\n",
    "Implementation of several RL algorithms\n",
    "https://github.com/lilianweng/deep-reinforcement-learning-gym\n",
    "https://lilianweng.github.io/lil-log/2018/05/05/implementing-deep-reinforcement-learning-models.html\n",
    "\n",
    "Academic resources\n",
    "https://github.com/dennybritz/reinforcement-learning\n",
    "https://arxiv.org/pdf/1312.5602v1.pdf\n",
    "https://deepmind.com/learning-resources/-introduction-reinforcement-learning-david-silver\n",
    "\n",
    "Book Introduction to Reinforcement Learning by Sutton\n",
    "https://web.stanford.edu/class/psych209/Readings/SuttonBartoIPRLBook2ndEd.pdf"
   ]
  },
  {
   "cell_type": "code",
   "execution_count": null,
   "metadata": {},
   "outputs": [],
   "source": []
  }
 ],
 "metadata": {
  "kernelspec": {
   "display_name": "Python 3",
   "language": "python",
   "name": "python3"
  },
  "language_info": {
   "codemirror_mode": {
    "name": "ipython",
    "version": 3
   },
   "file_extension": ".py",
   "mimetype": "text/x-python",
   "name": "python",
   "nbconvert_exporter": "python",
   "pygments_lexer": "ipython3",
   "version": "3.8.5"
  },
  "toc": {
   "base_numbering": 1,
   "nav_menu": {},
   "number_sections": true,
   "sideBar": true,
   "skip_h1_title": false,
   "title_cell": "Table of Contents",
   "title_sidebar": "Contents",
   "toc_cell": false,
   "toc_position": {
    "height": "calc(100% - 180px)",
    "left": "10px",
    "top": "150px",
    "width": "327.102px"
   },
   "toc_section_display": true,
   "toc_window_display": true
  },
  "varInspector": {
   "cols": {
    "lenName": 16,
    "lenType": 16,
    "lenVar": 40
   },
   "kernels_config": {
    "python": {
     "delete_cmd_postfix": "",
     "delete_cmd_prefix": "del ",
     "library": "var_list.py",
     "varRefreshCmd": "print(var_dic_list())"
    },
    "r": {
     "delete_cmd_postfix": ") ",
     "delete_cmd_prefix": "rm(",
     "library": "var_list.r",
     "varRefreshCmd": "cat(var_dic_list()) "
    }
   },
   "types_to_exclude": [
    "module",
    "function",
    "builtin_function_or_method",
    "instance",
    "_Feature"
   ],
   "window_display": false
  }
 },
 "nbformat": 4,
 "nbformat_minor": 4
}
